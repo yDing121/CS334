{
 "cells": [
  {
   "cell_type": "code",
   "execution_count": 3,
   "metadata": {},
   "outputs": [
    {
     "data": {
      "text/plain": [
       "array([[0.        , 0.        , 0.        , 0.5       , 0.        ,\n",
       "        0.        , 0.        , 0.5       , 0.        , 0.        ,\n",
       "        0.        , 0.        ],\n",
       "       [0.33333333, 0.        , 0.        , 0.33333333, 0.33333333,\n",
       "        0.        , 0.        , 0.        , 0.        , 0.        ,\n",
       "        0.        , 0.        ],\n",
       "       [0.        , 0.5       , 0.        , 0.        , 0.5       ,\n",
       "        0.        , 0.        , 0.        , 0.        , 0.        ,\n",
       "        0.        , 0.        ],\n",
       "       [0.        , 0.        , 0.        , 0.        , 0.        ,\n",
       "        0.        , 0.        , 1.        , 0.        , 0.        ,\n",
       "        0.        , 0.        ],\n",
       "       [0.        , 0.        , 0.        , 0.        , 0.        ,\n",
       "        0.        , 0.        , 0.        , 0.        , 0.        ,\n",
       "        0.        , 0.        ],\n",
       "       [0.        , 0.        , 0.5       , 0.        , 0.5       ,\n",
       "        0.        , 0.        , 0.        , 0.        , 0.        ,\n",
       "        0.        , 0.        ],\n",
       "       [0.        , 0.        , 0.        , 0.2       , 0.2       ,\n",
       "        0.2       , 0.        , 0.2       , 0.        , 0.        ,\n",
       "        0.2       , 0.        ],\n",
       "       [0.        , 0.        , 0.        , 0.        , 0.        ,\n",
       "        0.        , 0.        , 0.        , 0.5       , 0.        ,\n",
       "        0.5       , 0.        ],\n",
       "       [0.        , 0.        , 0.        , 0.        , 0.        ,\n",
       "        0.        , 0.5       , 0.        , 0.        , 0.        ,\n",
       "        0.5       , 0.        ],\n",
       "       [0.        , 0.        , 0.        , 0.        , 0.        ,\n",
       "        0.5       , 0.5       , 0.        , 0.        , 0.        ,\n",
       "        0.        , 0.        ],\n",
       "       [0.        , 0.        , 0.        , 0.        , 0.        ,\n",
       "        0.33333333, 0.        , 0.        , 0.        , 0.33333333,\n",
       "        0.        , 0.33333333],\n",
       "       [0.        , 0.        , 0.        , 0.        , 0.        ,\n",
       "        0.        , 0.        , 0.        , 0.        , 0.        ,\n",
       "        1.        , 0.        ]])"
      ]
     },
     "execution_count": 3,
     "metadata": {},
     "output_type": "execute_result"
    }
   ],
   "source": [
    "import numpy as np\n",
    "from numpy.linalg import eig\n",
    "import numpy.linalg as LA\n",
    "# Step 1: Define the adjacency matrix based on the diagram\n",
    "G = np.array([\n",
    "    [0, 0, 0, 1/2, 0, 0, 0, 1/2, 0, 0, 0, 0],  # A\n",
    "    [1/3, 0, 0, 1/3, 1/3, 0, 0, 0, 0, 0, 0, 0],  # B\n",
    "    [0, 1/2, 0, 0, 1/2, 0, 0, 0, 0, 0, 0, 0],  # C\n",
    "    [0, 0, 0, 0, 0, 0, 0, 1, 0, 0, 0, 0],  # D\n",
    "    [0, 0, 0, 0, 0, 0, 0, 0, 0, 0, 0, 0],  # E\n",
    "    [0, 0, 1/2, 0, 1/2, 0, 0, 0, 0, 0, 0, 0],  # F\n",
    "    [0, 0, 0, 1/5, 1/5, 1/5, 0, 1/5, 0, 0, 1/5, 0],  # G\n",
    "    [0, 0, 0, 0, 0, 0, 0, 0, 1/2, 0, 1/2, 0],  # H\n",
    "    [0, 0, 0, 0, 0, 0, 1/2, 0, 0, 0, 1/2, 0],  # I\n",
    "    [0, 0, 0, 0, 0, 1/2, 1/2, 0, 0, 0,0 , 0],  # J\n",
    "    [0, 0, 0, 0, 0, 1/3, 0, 0, 0, 1/3, 0, 1/3],  # K\n",
    "    [0, 0, 0, 0, 0, 0, 0, 0, 0, 0, 1, 0]   # L\n",
    "])\n",
    "G\n"
   ]
  },
  {
   "cell_type": "code",
   "execution_count": 4,
   "metadata": {},
   "outputs": [
    {
     "data": {
      "text/plain": [
       "array([ 8.41572763e-01+0.00000000e+00j,  4.41745726e-01+4.21155131e-01j,\n",
       "        4.41745726e-01-4.21155131e-01j, -7.56878638e-02+5.72510362e-01j,\n",
       "       -7.56878638e-02-5.72510362e-01j,  1.63708752e-16+6.69136728e-09j,\n",
       "        1.63708752e-16-6.69136728e-09j, -3.33125817e-01+1.90850263e-01j,\n",
       "       -3.33125817e-01-1.90850263e-01j, -5.09156663e-01+0.00000000e+00j,\n",
       "       -3.98280190e-01+0.00000000e+00j,  0.00000000e+00+0.00000000e+00j])"
      ]
     },
     "execution_count": 4,
     "metadata": {},
     "output_type": "execute_result"
    }
   ],
   "source": [
    "eigenvalues, eigenvectors = LA.eig(G)\n",
    "eigenvalues\n"
   ]
  },
  {
   "cell_type": "code",
   "execution_count": 5,
   "metadata": {
    "scrolled": true
   },
   "outputs": [
    {
     "data": {
      "text/plain": [
       "array([[-4.36856376e-01+0.00000000e+00j, -4.53934964e-01+0.00000000e+00j,\n",
       "        -4.53934964e-01-0.00000000e+00j, -1.64837680e-01+3.66051282e-01j,\n",
       "        -1.64837680e-01-3.66051282e-01j,  5.34471384e-16+6.16674127e-25j,\n",
       "         5.34471384e-16-6.16674127e-25j,  3.39711061e-01-5.55417615e-02j,\n",
       "         3.39711061e-01+5.55417615e-02j,  1.58044751e-01+0.00000000e+00j,\n",
       "        -3.89537917e-01+0.00000000e+00j, -8.53479460e-16+0.00000000e+00j],\n",
       "       [-3.31177850e-01+0.00000000e+00j, -3.72832188e-01+2.27564968e-01j,\n",
       "        -3.72832188e-01-2.27564968e-01j,  2.54197718e-01+3.10667158e-01j,\n",
       "         2.54197718e-01-3.10667158e-01j, -9.86716401e-17-4.03556106e-24j,\n",
       "        -9.86716401e-17+4.03556106e-24j,  1.93141370e-02-2.45931497e-01j,\n",
       "         1.93141370e-02+2.45931497e-01j,  1.11189108e-01+0.00000000e+00j,\n",
       "        -1.05566192e-01+0.00000000e+00j, -2.28746485e-16+0.00000000e+00j],\n",
       "       [-1.96761269e-01+0.00000000e+00j, -9.24226191e-02+3.45689239e-01j,\n",
       "        -9.24226191e-02-3.45689239e-01j,  2.37814127e-01-2.53442578e-01j,\n",
       "         2.37814127e-01+2.53442578e-01j, -2.59013055e-16-2.04264234e-23j,\n",
       "        -2.59013055e-16+2.04264234e-23j, -1.81042564e-01+2.65406411e-01j,\n",
       "        -1.81042564e-01-2.65406411e-01j, -1.09189485e-01+0.00000000e+00j,\n",
       "         1.32527546e-01+0.00000000e+00j,  3.97172206e-17+0.00000000e+00j],\n",
       "       [-3.99274398e-01+0.00000000e+00j, -3.27676575e-01-1.69483012e-01j,\n",
       "        -3.27676575e-01+1.69483012e-01j, -4.26461868e-01+0.00000000e+00j,\n",
       "        -4.26461868e-01-0.00000000e+00j,  4.44022380e-16-9.09755872e-25j,\n",
       "         4.44022380e-16+9.09755872e-25j, -2.18204901e-01+3.12378479e-01j,\n",
       "        -2.18204901e-01-3.12378479e-01j, -3.27882777e-01+0.00000000e+00j,\n",
       "         5.15672687e-01+0.00000000e+00j, -4.72567618e-16+0.00000000e+00j],\n",
       "       [ 0.00000000e+00+0.00000000e+00j,  0.00000000e+00+0.00000000e+00j,\n",
       "         0.00000000e+00-0.00000000e+00j,  0.00000000e+00+0.00000000e+00j,\n",
       "         0.00000000e+00-0.00000000e+00j,  0.00000000e+00+0.00000000e+00j,\n",
       "         0.00000000e+00-0.00000000e+00j,  0.00000000e+00+0.00000000e+00j,\n",
       "         0.00000000e+00-0.00000000e+00j,  0.00000000e+00+0.00000000e+00j,\n",
       "         0.00000000e+00+0.00000000e+00j,  2.84942511e-16+0.00000000e+00j],\n",
       "       [-1.16900925e-01+0.00000000e+00j,  1.40615337e-01+2.57215276e-01j,\n",
       "         1.40615337e-01-2.57215276e-01j, -2.44527326e-01-1.75366804e-01j,\n",
       "        -2.44527326e-01+1.75366804e-01j, -1.14866263e-15-4.73151118e-09j,\n",
       "        -1.14866263e-15+4.73151118e-09j,  3.76408990e-01-1.82710099e-01j,\n",
       "         3.76408990e-01+1.82710099e-01j,  1.07225824e-01+0.00000000e+00j,\n",
       "        -1.66374765e-01+0.00000000e+00j,  9.06837612e-16+0.00000000e+00j],\n",
       "       [-2.63499689e-01+0.00000000e+00j, -7.98113693e-02-3.37705359e-02j,\n",
       "        -7.98113693e-02+3.37705359e-02j, -1.00263118e-01+2.24684421e-01j,\n",
       "        -1.00263118e-01-2.24684421e-01j, -6.32745907e-17-4.73151118e-09j,\n",
       "        -6.32745907e-17+4.73151118e-09j, -3.45868724e-02-1.31223398e-02j,\n",
       "        -3.45868724e-02+1.31223398e-02j,  1.66342755e-01+0.00000000e+00j,\n",
       "        -1.69849828e-01+0.00000000e+00j, -1.97574512e-17+0.00000000e+00j],\n",
       "       [-3.36018458e-01+0.00000000e+00j, -7.33710862e-02-2.12871067e-01j,\n",
       "        -7.33710862e-02+2.12871067e-01j,  3.22779878e-02-2.44153839e-01j,\n",
       "         3.22779878e-02+2.44153839e-01j,  1.64452734e-16+2.59935802e-24j,\n",
       "         1.64452734e-16-2.59935802e-24j,  1.30721709e-02-1.45705799e-01j,\n",
       "         1.30721709e-02+1.45705799e-01j,  1.66943701e-01+0.00000000e+00j,\n",
       "        -2.05382216e-01+0.00000000e+00j, -1.85570094e-16+0.00000000e+00j],\n",
       "       [-3.08990938e-01+0.00000000e+00j, -4.07830830e-02-1.32355001e-01j,\n",
       "        -4.07830830e-02+1.32355001e-01j,  2.41191184e-01+2.64350756e-02j,\n",
       "         2.41191184e-01-2.64350756e-02j, -1.87641970e-16-4.73151118e-09j,\n",
       "        -1.87641970e-16+4.73151118e-09j,  1.48051974e-01+9.71765804e-02j,\n",
       "         1.48051974e-01-9.71765804e-02j,  1.99758363e-01+0.00000000e+00j,\n",
       "        -3.07240670e-02+0.00000000e+00j,  6.97017129e-17+0.00000000e+00j],\n",
       "       [-2.26005778e-01+0.00000000e+00j,  1.62364083e-01+9.81150486e-02j,\n",
       "         1.62364083e-01-9.81150486e-02j,  8.14570098e-02+2.90352675e-01j,\n",
       "         8.14570098e-02-2.90352675e-01j, -7.07106781e-01+4.73151118e-09j,\n",
       "        -7.07106781e-01-4.73151118e-09j, -5.13052576e-01+0.00000000e+00j,\n",
       "        -5.13052576e-01-0.00000000e+00j, -2.68648727e-01+0.00000000e+00j,\n",
       "         4.22095552e-01+0.00000000e+00j,  7.07106781e-01+0.00000000e+00j],\n",
       "       [-2.56577026e-01+0.00000000e+00j,  1.55263840e-01-1.17515986e-01j,\n",
       "         1.55263840e-01+1.17515986e-01j,  3.34839173e-02+4.74828543e-02j,\n",
       "         3.34839173e-02-4.74828543e-02j, -1.01178143e-16+4.73151118e-09j,\n",
       "        -1.01178143e-16-4.73151118e-09j, -1.01145349e-01+4.88980075e-03j,\n",
       "        -1.01145349e-01-4.88980075e-03j, -3.69759358e-01+0.00000000e+00j,\n",
       "         1.94323403e-01+0.00000000e+00j,  2.05871018e-16+0.00000000e+00j],\n",
       "       [-3.04878006e-01+0.00000000e+00j,  5.12593744e-02-3.14896390e-01j,\n",
       "         5.12593744e-02+3.14896390e-01j,  7.39140596e-02-6.82578294e-02j,\n",
       "         7.39140596e-02+6.82578294e-02j,  7.07106781e-01+0.00000000e+00j,\n",
       "         7.07106781e-01-0.00000000e+00j,  2.34926308e-01+1.19912492e-01j,\n",
       "         2.34926308e-01-1.19912492e-01j,  7.26219227e-01+0.00000000e+00j,\n",
       "        -4.87906272e-01+0.00000000e+00j, -7.07106781e-01+0.00000000e+00j]])"
      ]
     },
     "execution_count": 5,
     "metadata": {},
     "output_type": "execute_result"
    }
   ],
   "source": [
    "eigenvectors"
   ]
  },
  {
   "cell_type": "code",
   "execution_count": 6,
   "metadata": {},
   "outputs": [
    {
     "name": "stdout",
     "output_type": "stream",
     "text": [
      "\n",
      "Is the principal eigenvector non-negative? False\n"
     ]
    }
   ],
   "source": [
    "#c,d\n",
    "# Find the index of the largest eigenvalue\n",
    "largest_eigenvalue_index = np.argmax(eigenvalues.real)\n",
    "\n",
    "# Get the corresponding eigenvector\n",
    "principal_eigenvector = eigenvectors[:, largest_eigenvalue_index]\n",
    "\n",
    "# Check if all elements are non-negative\n",
    "non_negative = np.all(principal_eigenvector.real >= 0)\n",
    "\n",
    "print(\"\\nIs the principal eigenvector non-negative?\", non_negative)\n"
   ]
  },
  {
   "cell_type": "code",
   "execution_count": 26,
   "metadata": {},
   "outputs": [],
   "source": [
    "#e\n",
    "fixed_G = np.array([\n",
    "    [0, 0, 0, 1/2, 0, 0, 0, 1/2, 0, 0, 0, 0],  # A\n",
    "    [1/3, 0, 0, 1/3, 1/3, 0, 0, 0, 0, 0, 0, 0],  # B\n",
    "    [0, 1/2, 0, 0, 1/2, 0, 0, 0, 0, 0, 0, 0],  # C\n",
    "    [0, 0, 0, 0, 0, 0, 0, 1, 0, 0, 0, 0],  # D\n",
    "    [1/12, 1/12, 1/12, 1/12, 1/12, 1/12, 1/12, 1/12, 1/12, 1/12, 1/12, 1/12],  # E\n",
    "    # [1/11, 1/11, 1/11, 1/11, 0, 1/11, 1/11, 1/11, 1/11, 1/11, 1/11, 1/11], # E\n",
    "    [0, 0, 1/2, 0, 1/2, 0, 0, 0, 0, 0, 0, 0],  # F\n",
    "    [0, 0, 0, 1/5, 1/5, 1/5, 0, 1/5, 0, 0, 1/5, 0],  # G\n",
    "    [0, 0, 0, 0, 0, 0, 0, 0, 1/2, 0, 1/2, 0],  # H\n",
    "    [0, 0, 0, 0, 0, 0, 1/2, 0, 0, 0, 1/2, 0],  # I\n",
    "    [0, 0, 0, 0, 0, 1/2, 1/2, 0, 0, 0,0 , 0],  # J\n",
    "    [0, 0, 0, 0, 0, 1/3, 0, 0, 0, 1/3, 0, 1/3],  # K\n",
    "    [0, 0, 0, 0, 0, 0, 0, 0, 0, 0, 1, 0]   # L\n",
    "])\n"
   ]
  },
  {
   "cell_type": "code",
   "execution_count": 28,
   "metadata": {
    "scrolled": true
   },
   "outputs": [
    {
     "data": {
      "text/plain": [
       "array([ 1.00000000e+00+0.j        ,  4.68021394e-01+0.46586148j,\n",
       "        4.68021394e-01-0.46586148j, -7.94316574e-02+0.57768473j,\n",
       "       -7.94316574e-02-0.57768473j, -3.29510852e-01+0.19990586j,\n",
       "       -3.29510852e-01-0.19990586j, -5.00000000e-01+0.j        ,\n",
       "       -4.02797005e-01+0.j        ,  3.82978979e-02+0.j        ,\n",
       "       -1.81492498e-16+0.j        , -1.70325330e-01+0.j        ])"
      ]
     },
     "execution_count": 28,
     "metadata": {},
     "output_type": "execute_result"
    }
   ],
   "source": [
    "eigenvalues_fixed, eigenvectors_fixed = LA.eig(fixed_G)\n",
    "eigenvalues_fixed"
   ]
  },
  {
   "cell_type": "code",
   "execution_count": 29,
   "metadata": {
    "scrolled": true
   },
   "outputs": [
    {
     "data": {
      "text/plain": [
       "array([[ 2.88675135e-01+0.j        ,  4.14592394e-01+0.j        ,\n",
       "         4.14592394e-01-0.j        ,  1.62848668e-01-0.36099821j,\n",
       "         1.62848668e-01+0.36099821j, -3.45289195e-01+0.07857882j,\n",
       "        -3.45289195e-01-0.07857882j,  1.70251306e-01+0.j        ,\n",
       "         3.50435572e-01+0.j        , -1.11569114e-02+0.j        ,\n",
       "        -4.43580225e-16+0.j        ,  9.82344250e-02+0.j        ],\n",
       "       [ 2.88675135e-01+0.j        ,  3.16842385e-01-0.24698437j,\n",
       "         3.16842385e-01+0.24698437j, -2.40605581e-01-0.27048723j,\n",
       "        -2.40605581e-01+0.27048723j,  2.20906623e-02+0.2329914j ,\n",
       "         2.20906623e-02-0.2329914j ,  1.70251306e-01+0.j        ,\n",
       "         1.51768035e-01+0.j        , -1.13556891e-02+0.j        ,\n",
       "         1.39810386e-17+0.j        ,  8.93681429e-02+0.j        ],\n",
       "       [ 2.88675135e-01+0.j        ,  3.43016134e-02-0.36938078j,\n",
       "         3.43016134e-02+0.36938078j, -1.87261335e-01+0.28741535j,\n",
       "        -1.87261335e-01-0.28741535j,  1.70405601e-01-0.31762901j,\n",
       "         1.70405601e-01+0.31762901j, -8.51256531e-02+0.j        ,\n",
       "        -1.12532683e-01+0.j        , -8.88330011e-03+0.j        ,\n",
       "        -5.84661615e-16+0.j        ,  4.16785677e-02+0.j        ],\n",
       "       [ 2.88675135e-01+0.j        ,  3.16030216e-01+0.16284432j,\n",
       "         3.16030216e-01-0.16284432j,  4.24971854e-01+0.j        ,\n",
       "         4.24971854e-01-0.j        ,  1.91122674e-01-0.34011341j,\n",
       "         1.91122674e-01+0.34011341j, -3.40502612e-01+0.j        ,\n",
       "        -4.72718322e-01+0.j        , -8.23051369e-04+0.j        ,\n",
       "         1.33455369e-17+0.j        , -4.03334257e-02+0.j        ],\n",
       "       [ 2.88675135e-01+0.j        ,  5.94259505e-02-0.06681225j,\n",
       "         5.94259505e-02+0.06681225j, -6.17163843e-02+0.00847145j,\n",
       "        -6.17163843e-02-0.00847145j, -7.39985138e-03+0.04446317j,\n",
       "        -7.39985138e-03-0.04446317j, -8.51256531e-02+0.j        ,\n",
       "        -6.11123801e-02+0.j        ,  1.06752657e-02+0.j        ,\n",
       "         3.33002920e-16+0.j        , -1.03565975e-01+0.j        ],\n",
       "       [ 2.88675135e-01+0.j        , -1.82698513e-01-0.28414153j,\n",
       "        -1.82698513e-01+0.28414153j,  2.80426052e-01+0.17693761j,\n",
       "         2.80426052e-01-0.17693761j, -3.64614902e-01+0.19329945j,\n",
       "        -3.64614902e-01-0.19329945j,  1.70251306e-01+0.j        ,\n",
       "         2.15549099e-01+0.j        ,  2.33950904e-02+0.j        ,\n",
       "        -2.19883607e-16+0.j        ,  1.81674114e-01+0.j        ],\n",
       "       [ 2.88675135e-01+0.j        ,  5.82612684e-02+0.01572218j,\n",
       "         5.82612684e-02-0.01572218j,  9.93227339e-02-0.21049332j,\n",
       "         9.93227339e-02+0.21049332j,  4.81968745e-02-0.00133668j,\n",
       "         4.81968745e-02+0.00133668j,  1.70251306e-01+0.j        ,\n",
       "         1.62232029e-01+0.j        ,  2.96477113e-02+0.j        ,\n",
       "        -3.40628941e-16+0.j        ,  6.89506672e-02+0.j        ],\n",
       "       [ 2.88675135e-01+0.j        ,  7.20460054e-02+0.22344093j,\n",
       "         7.20460054e-02-0.22344093j, -3.37562187e-02+0.24549975j,\n",
       "        -3.37562187e-02-0.24549975j,  5.01366789e-03+0.1502776j ,\n",
       "         5.01366789e-03-0.1502776j ,  1.70251306e-01+0.j        ,\n",
       "         1.90409524e-01+0.j        , -3.15211373e-05+0.j        ,\n",
       "         6.86341896e-17+0.j        ,  6.86980405e-03+0.j        ],\n",
       "       [ 2.88675135e-01+0.j        ,  2.43409470e-02+0.13910868j,\n",
       "         2.43409470e-02-0.13910868j, -2.36902034e-01-0.0175783j ,\n",
       "        -2.36902034e-01+0.0175783j , -1.61194357e-01-0.0994813j ,\n",
       "        -1.61194357e-01+0.0994813j ,  1.70251306e-01+0.j        ,\n",
       "         4.54680252e-02+0.j        ,  2.75361441e-02+0.j        ,\n",
       "        -7.18116984e-17+0.j        ,  1.01024540e-01+0.j        ],\n",
       "       [ 2.88675135e-01+0.j        , -2.10155632e-01-0.07757394j,\n",
       "        -2.10155632e-01+0.07757394j, -7.28595129e-02-0.3186635j ,\n",
       "        -7.28595129e-02+0.3186635j ,  4.80132940e-01+0.j        ,\n",
       "         4.80132940e-01-0.j        , -3.40502612e-01+0.j        ,\n",
       "        -4.68947289e-01+0.j        ,  6.92502782e-01+0.j        ,\n",
       "         7.07106781e-01+0.j        , -7.35723751e-01+0.j        ],\n",
       "       [ 2.88675135e-01+0.j        , -1.65087848e-01+0.13716851j,\n",
       "        -1.65087848e-01-0.13716851j, -4.13782578e-02-0.06042351j,\n",
       "        -4.13782578e-02+0.06042351j,  9.78074959e-02+0.00244963j,\n",
       "         9.78074959e-02-0.00244963j, -3.40502612e-01+0.j        ,\n",
       "        -1.98860797e-01+0.j        , -2.75385585e-02+0.j        ,\n",
       "         3.01227832e-16+0.j        , -1.03364743e-01+0.j        ],\n",
       "       [ 2.88675135e-01+0.j        , -3.06443682e-02+0.32358466j,\n",
       "        -3.06443682e-02-0.32358466j, -9.29890976e-02+0.08441375j,\n",
       "        -9.29890976e-02-0.08441375j, -2.13673015e-01-0.13706411j,\n",
       "        -2.13673015e-01+0.13706411j,  6.81005225e-01+0.j        ,\n",
       "         4.93699791e-01+0.j        , -7.19061880e-01+0.j        ,\n",
       "        -7.07106781e-01+0.j        ,  6.06866539e-01+0.j        ]])"
      ]
     },
     "execution_count": 29,
     "metadata": {},
     "output_type": "execute_result"
    }
   ],
   "source": [
    "eigenvectors_fixed"
   ]
  },
  {
   "cell_type": "code",
   "execution_count": 30,
   "metadata": {},
   "outputs": [
    {
     "name": "stdout",
     "output_type": "stream",
     "text": [
      "\n",
      "Is the principal eigenvector non-negative? True\n"
     ]
    }
   ],
   "source": [
    "#c,d with fixed\n",
    "# Find the index of the largest eigenvalue\n",
    "largest_eigenvalue_index_fixed = np.argmax(eigenvalues_fixed.real)\n",
    "\n",
    "# Get the corresponding eigenvector\n",
    "principal_eigenvector_fixed = eigenvectors_fixed[:, largest_eigenvalue_index_fixed]\n",
    "\n",
    "# Check if all elements are non-negative\n",
    "non_negative_fixed = np.all(principal_eigenvector_fixed.real >= 0)\n",
    "\n",
    "print(\"\\nIs the principal eigenvector non-negative?\", non_negative_fixed)\n"
   ]
  },
  {
   "cell_type": "code",
   "execution_count": 31,
   "metadata": {},
   "outputs": [
    {
     "data": {
      "text/plain": [
       "array([0.28867513+0.j, 0.28867513+0.j, 0.28867513+0.j, 0.28867513+0.j,\n",
       "       0.28867513+0.j, 0.28867513+0.j, 0.28867513+0.j, 0.28867513+0.j,\n",
       "       0.28867513+0.j, 0.28867513+0.j, 0.28867513+0.j, 0.28867513+0.j])"
      ]
     },
     "execution_count": 31,
     "metadata": {},
     "output_type": "execute_result"
    }
   ],
   "source": [
    "principal_eigenvector_fixed"
   ]
  },
  {
   "cell_type": "code",
   "execution_count": 105,
   "metadata": {},
   "outputs": [
    {
     "name": "stdout",
     "output_type": "stream",
     "text": [
      "First Row of Eigenvector Matrix (unnormalized):\n",
      "[2.88675135e-01 4.14592394e-01 4.14592394e-01 3.96029544e-01\n",
      " 3.96029544e-01 3.54117578e-01 3.54117578e-01 1.70251306e-01\n",
      " 3.50435572e-01 1.11569114e-02 5.73222584e-16 9.82344250e-02]\n",
      "\n",
      "First Row of Eigenvector Matrix (normalized):\n",
      "[8.88714540e-02 1.27636310e-01 1.27636310e-01 1.21921555e-01\n",
      " 1.21921555e-01 1.09018548e-01 1.09018548e-01 5.24135241e-02\n",
      " 1.07885007e-01 3.43476392e-03 1.76472160e-16 3.02424252e-02]\n"
     ]
    }
   ],
   "source": [
    "\n",
    "# Assuming you've already computed the eigenvalues and eigenvectors using np.linalg.eig\n",
    "# eigenvalues, eigenvectors = np.linalg.eig(G)  # Replace G with your matrix\n",
    "\n",
    "# Step 1: Extract the first row of the eigenvector matrix\n",
    "first_row_eigenvector = eigenvectors_fixed[0, :]\n",
    "first_row_eigenvector = np.abs(first_row_eigenvector)\n",
    "\n",
    "# Optional: Normalize the first row if needed\n",
    "first_row_eigenvector_normalized = first_row_eigenvector / np.sum(first_row_eigenvector)\n",
    "\n",
    "# Print the first row of the eigenvector matrix\n",
    "print(\"First Row of Eigenvector Matrix (unnormalized):\")\n",
    "print(first_row_eigenvector.real)\n",
    "\n",
    "print(\"\\nFirst Row of Eigenvector Matrix (normalized):\")\n",
    "print(first_row_eigenvector_normalized.real)\n"
   ]
  },
  {
   "cell_type": "code",
   "execution_count": 106,
   "metadata": {},
   "outputs": [
    {
     "data": {
      "text/plain": [
       "1.0000000000000002"
      ]
     },
     "execution_count": 106,
     "metadata": {},
     "output_type": "execute_result"
    }
   ],
   "source": [
    "sum(first_row_eigenvector_normalized)"
   ]
  },
  {
   "cell_type": "code",
   "execution_count": 70,
   "metadata": {},
   "outputs": [
    {
     "name": "stdout",
     "output_type": "stream",
     "text": [
      "[ 3.04680836e-01  3.04680836e-01  2.57532469e-01  2.12145188e-01\n",
      "  1.25116406e-01  1.19676263e-01  1.19676263e-01  7.21917410e-02\n",
      "  4.21256971e-16 -8.19913036e-03 -2.53750436e-01 -2.53750436e-01]\n",
      "Web page ranking (sorted by importance):\n",
      "Page 2: 0.30468083624434633\n",
      "Page 1: 0.30468083624434633\n",
      "Page 8: 0.2575324692163193\n",
      "Page 0: 0.21214518793136172\n",
      "Page 7: 0.12511640598979257\n",
      "Page 4: 0.11967626285560413\n",
      "Page 3: 0.11967626285560413\n",
      "Page 11: 0.07219174098766597\n",
      "Page 10: 4.2125697077287047e-16\n",
      "Page 9: -0.008199130361856103\n",
      "Page 6: -0.25375043598159236\n",
      "Page 5: -0.25375043598159236\n"
     ]
    }
   ],
   "source": [
    "v_sorted = np.sort(eigenvector_fixed_normalized.real)[::-1]\n",
    "print(v_sorted)\n",
    "# Get the sorted indices of the eigenvector in non-increasing order\n",
    "sorted_indices = np.argsort(eigenvector_fixed_normalized.real)[::-1]\n",
    "\n",
    "# Display the sorted indices (web page ranking) and their corresponding importance values\n",
    "print(\"Web page ranking (sorted by importance):\")\n",
    "for index in sorted_indices:\n",
    "    print(f\"Page {index}: {eigenvector_fixed_normalized[index].real}\")\n"
   ]
  },
  {
   "cell_type": "code",
   "execution_count": 32,
   "metadata": {},
   "outputs": [
    {
     "name": "stdout",
     "output_type": "stream",
     "text": [
      "Converged after 31 iterations.\n",
      "[0.02707362 0.04691441 0.07095776 0.05576151 0.13722591 0.1190444\n",
      " 0.07575547 0.09588479 0.05937779 0.06926217 0.17347999 0.06926217]\n"
     ]
    }
   ],
   "source": [
    "# power method\n",
    "def power_method(fixed_G, tolerance=1e-6, max_iterations=1000):\n",
    "    n = fixed_G.shape[0]  # number of nodes/pages\n",
    "    # Step 1: Initialize with a uniform vector\n",
    "    pi = np.ones(n) / n\n",
    "    for iteration in range(max_iterations):\n",
    "        # Step 2: Multiply by the matrix G\n",
    "        pi_next = np.dot(fixed_G.T, pi)\n",
    "        # Step 3: Normalize the result\n",
    "        pi_next = pi_next / np.sum(pi_next)\n",
    "        # Step 4: Check for convergence\n",
    "        if np.linalg.norm(pi_next - pi, ord=1) < tolerance:\n",
    "            print(f\"Converged after {iteration + 1} iterations.\")\n",
    "            return pi_next\n",
    "        pi = pi_next\n",
    "    print(\"Reached maximum iterations without full convergence.\")\n",
    "    return pi_next\n",
    "\n",
    "importance_vector = power_method(fixed_G)\n",
    "print(importance_vector)"
   ]
  },
  {
   "cell_type": "code",
   "execution_count": 33,
   "metadata": {},
   "outputs": [
    {
     "name": "stdout",
     "output_type": "stream",
     "text": [
      "Modified Google Matrix (G_tilde) with teleportation applied:\n",
      "[[0.0125     0.0125     0.0125     0.4375     0.0125     0.0125\n",
      "  0.0125     0.4375     0.0125     0.0125     0.0125     0.0125    ]\n",
      " [0.29583333 0.0125     0.0125     0.29583333 0.29583333 0.0125\n",
      "  0.0125     0.0125     0.0125     0.0125     0.0125     0.0125    ]\n",
      " [0.0125     0.4375     0.0125     0.0125     0.4375     0.0125\n",
      "  0.0125     0.0125     0.0125     0.0125     0.0125     0.0125    ]\n",
      " [0.0125     0.0125     0.0125     0.0125     0.0125     0.0125\n",
      "  0.0125     0.8625     0.0125     0.0125     0.0125     0.0125    ]\n",
      " [0.08333333 0.08333333 0.08333333 0.08333333 0.08333333 0.08333333\n",
      "  0.08333333 0.08333333 0.08333333 0.08333333 0.08333333 0.08333333]\n",
      " [0.0125     0.0125     0.4375     0.0125     0.4375     0.0125\n",
      "  0.0125     0.0125     0.0125     0.0125     0.0125     0.0125    ]\n",
      " [0.0125     0.0125     0.0125     0.1825     0.1825     0.1825\n",
      "  0.0125     0.1825     0.0125     0.0125     0.1825     0.0125    ]\n",
      " [0.0125     0.0125     0.0125     0.0125     0.0125     0.0125\n",
      "  0.0125     0.0125     0.4375     0.0125     0.4375     0.0125    ]\n",
      " [0.0125     0.0125     0.0125     0.0125     0.0125     0.0125\n",
      "  0.4375     0.0125     0.0125     0.0125     0.4375     0.0125    ]\n",
      " [0.0125     0.0125     0.0125     0.0125     0.0125     0.4375\n",
      "  0.4375     0.0125     0.0125     0.0125     0.0125     0.0125    ]\n",
      " [0.0125     0.0125     0.0125     0.0125     0.0125     0.29583333\n",
      "  0.0125     0.0125     0.0125     0.29583333 0.0125     0.29583333]\n",
      " [0.0125     0.0125     0.0125     0.0125     0.0125     0.0125\n",
      "  0.0125     0.0125     0.0125     0.0125     0.8625     0.0125    ]]\n"
     ]
    }
   ],
   "source": [
    "import numpy as np\n",
    "\n",
    "def apply_teleportation_fix(fixed_G, alpha=0.85):\n",
    "    n = fixed_G.shape[0]  # Number of nodes/pages\n",
    "    \n",
    "    # Step 1: Construct the teleportation matrix E\n",
    "    E = np.ones((n, n)) / n  # Each entry in E is 1/n\n",
    "    \n",
    "    # Step 2: Apply the teleportation formula\n",
    "    G_tilde = alpha * fixed_G + (1 - alpha) * E\n",
    "    \n",
    "    return G_tilde\n",
    "\n",
    "# Example Google Matrix (replace this with your actual fixed Google Matrix)\n",
    "fixed_G = np.array([\n",
    "    [0, 0, 0, 1/2, 0, 0, 0, 1/2, 0, 0, 0, 0],  # A\n",
    "    [1/3, 0, 0, 1/3, 1/3, 0, 0, 0, 0, 0, 0, 0],  # B\n",
    "    [0, 1/2, 0, 0, 1/2, 0, 0, 0, 0, 0, 0, 0],  # C\n",
    "    [0, 0, 0, 0, 0, 0, 0, 1, 0, 0, 0, 0],  # D\n",
    "    [1/12, 1/12, 1/12, 1/12, 1/12, 1/12, 1/12, 1/12, 1/12, 1/12, 1/12, 1/12],  # E\n",
    "    [0, 0, 1/2, 0, 1/2, 0, 0, 0, 0, 0, 0, 0],  # F\n",
    "    [0, 0, 0, 1/5, 1/5, 1/5, 0, 1/5, 0, 0, 1/5, 0],  # G\n",
    "    [0, 0, 0, 0, 0, 0, 0, 0, 1/2, 0, 1/2, 0],  # H\n",
    "    [0, 0, 0, 0, 0, 0, 1/2, 0, 0, 0, 1/2, 0],  # I\n",
    "    [0, 0, 0, 0, 0, 1/2, 1/2, 0, 0, 0,0 , 0],  # J\n",
    "    [0, 0, 0, 0, 0, 1/3, 0, 0, 0, 1/3, 0, 1/3],  # K\n",
    "    [0, 0, 0, 0, 0, 0, 0, 0, 0, 0, 1, 0]   # L\n",
    "])\n",
    "\n",
    "# Apply the teleportation fix to your Google Matrix\n",
    "G_tilde = apply_teleportation_fix(fixed_G)\n",
    "\n",
    "# Display the modified Google Matrix with teleportation\n",
    "print(\"Modified Google Matrix (G_tilde) with teleportation applied:\")\n",
    "print(G_tilde)\n"
   ]
  },
  {
   "cell_type": "code",
   "execution_count": 34,
   "metadata": {},
   "outputs": [
    {
     "name": "stdout",
     "output_type": "stream",
     "text": [
      "Eigenvalues of G_tilde:\n",
      "[ 1.00000000e+00+0.j          3.97818185e-01+0.39598226j\n",
      "  3.97818185e-01-0.39598226j -6.75169088e-02+0.49103202j\n",
      " -6.75169088e-02-0.49103202j -2.80084224e-01+0.16991998j\n",
      " -2.80084224e-01-0.16991998j -4.25000000e-01+0.j\n",
      " -3.42377454e-01+0.j          3.25532132e-02+0.j\n",
      "  4.58013828e-16+0.j         -1.44776530e-01+0.j        ]\n",
      "\n",
      "Eigenvectors of G_tilde:\n",
      "[[-2.88675135e-01+0.j          4.06577478e-01+0.j\n",
      "   4.06577478e-01-0.j          1.57618681e-01-0.35898377j\n",
      "   1.57618681e-01+0.35898377j -3.44597722e-01+0.08196955j\n",
      "  -3.44597722e-01-0.08196955j -1.66131555e-01+0.j\n",
      "   3.47951964e-01+0.j         -1.12203042e-02+0.j\n",
      "  -3.39357938e-16+0.j         -9.59669560e-02+0.j        ]\n",
      " [-2.88675135e-01+0.j          3.11973472e-01-0.25003367j\n",
      "   3.11973472e-01+0.25003367j -2.45603383e-01-0.26429822j\n",
      "  -2.45603383e-01+0.26429822j  2.35520604e-02+0.2349458j\n",
      "   2.35520604e-02-0.2349458j  -1.66131555e-01+0.j\n",
      "   1.49131851e-01+0.j         -1.14190820e-02+0.j\n",
      "  -1.28371355e-16+0.j         -8.70966174e-02+0.j        ]\n",
      " [-2.88675135e-01+0.j          2.95132597e-02-0.37750823j\n",
      "   2.95132597e-02+0.37750823j -1.86605846e-01+0.2939996j\n",
      "  -1.86605846e-01-0.2939996j   1.69682309e-01-0.31649017j\n",
      "   1.69682309e-01+0.31649017j  8.98008405e-02+0.j\n",
      "  -1.15371849e-01+0.j         -8.94669224e-03+0.j\n",
      "   3.68591018e-16+0.j         -3.93852230e-02+0.j        ]\n",
      " [-2.88675135e-01+0.j          3.04911523e-01+0.16237097j\n",
      "   3.04911523e-01-0.16237097j  4.23778211e-01+0.j\n",
      "   4.23778211e-01-0.j          1.90315808e-01-0.33906756j\n",
      "   1.90315808e-01+0.33906756j  3.45733236e-01+0.j\n",
      "  -4.75834110e-01+0.j         -8.86441193e-04+0.j\n",
      "  -1.20745334e-16+0.j          4.26642930e-02+0.j        ]\n",
      " [-2.88675135e-01+0.j          5.01859690e-02-0.07264596j\n",
      "   5.01859690e-02+0.07264596j -6.36344642e-02+0.01333985j\n",
      "  -6.36344642e-02-0.01333985j -6.71734196e-03+0.04646515j\n",
      "  -6.71734196e-03-0.04646515j  8.98008405e-02+0.j\n",
      "  -6.39120559e-02+0.j          1.06118792e-02+0.j\n",
      "   1.39810386e-17+0.j          1.05925772e-01+0.j        ]\n",
      " [-2.88675135e-01+0.j         -1.90156167e-01-0.29503712j\n",
      "  -1.90156167e-01+0.29503712j  2.80756967e-01+0.17867342j\n",
      "   2.80756967e-01-0.17867342j -3.63463802e-01+0.19681298j\n",
      "  -3.63463802e-01-0.19681298j -1.66131555e-01+0.j\n",
      "   2.12961898e-01+0.j          2.33317075e-02+0.j\n",
      "  -1.41081390e-16+0.j         -1.79444821e-01+0.j        ]\n",
      " [-2.88675135e-01+0.j          4.77563359e-02+0.01039198j\n",
      "   4.77563359e-02-0.01039198j  9.54883238e-02-0.2075951j\n",
      "   9.54883238e-02+0.2075951j   4.87142994e-02+0.00042133j\n",
      "   4.87142994e-02-0.00042133j -1.66131555e-01+0.j\n",
      "   1.59603881e-01+0.j          2.95843303e-02+0.j\n",
      "  -1.27100351e-16+0.j         -6.66698001e-02+0.j        ]\n",
      " [-2.88675135e-01+0.j          5.84630757e-02+0.21963264j\n",
      "   5.84630757e-02-0.21963264j -3.32636600e-02+0.25048324j\n",
      "  -3.32636600e-02-0.25048324j  6.13174946e-03+0.15226973j\n",
      "   6.13174946e-03-0.15226973j -1.66131555e-01+0.j\n",
      "   1.87803017e-01+0.j         -9.49107340e-05+0.j\n",
      "  -2.92330808e-17+0.j         -4.56053346e-03+0.j        ]\n",
      " [-2.88675135e-01+0.j          1.17417192e-02+0.13404089j\n",
      "   1.17417192e-02-0.13404089j -2.39371118e-01-0.01100586j\n",
      "  -2.39371118e-01+0.01100586j -1.61157023e-01-0.09690854j\n",
      "  -1.61157023e-01+0.09690854j -1.66131555e-01+0.j\n",
      "   4.27502029e-02+0.j          2.74727624e-02+0.j\n",
      "  -5.54793033e-16+0.j         -9.87583477e-02+0.j        ]\n",
      " [-2.88675135e-01+0.j         -2.20934211e-01-0.08758329j\n",
      "  -2.20934211e-01+0.08758329j -7.80590203e-02-0.3142277j\n",
      "  -7.80590203e-02+0.3142277j   4.80821901e-01+0.j\n",
      "   4.80821901e-01-0.j          3.45733236e-01+0.j\n",
      "  -4.72060181e-01+0.j          6.92439592e-01+0.j\n",
      "  -7.07106781e-01+0.j          7.38372776e-01+0.j        ]\n",
      " [-2.88675135e-01+0.j         -1.78853874e-01+0.1292021j\n",
      "  -1.78853874e-01-0.1292021j  -4.39497048e-02-0.05587247j\n",
      "  -4.39497048e-02+0.05587247j  9.83594128e-02+0.00400712j\n",
      "   9.83594128e-02-0.00400712j  3.45733236e-01+0.j\n",
      "  -2.01766264e-01+0.j         -2.76019560e-02+0.j\n",
      "   4.91878359e-16+0.j          1.05724449e-01+0.j        ]\n",
      " [-2.88675135e-01+0.j         -4.64017640e-02+0.31884413j\n",
      "  -4.64017640e-02-0.31884413j -9.42016934e-02+0.0897203j\n",
      "  -9.42016934e-02-0.0897203j  -2.13808870e-01-0.13429215j\n",
      "  -2.13808870e-01+0.13429215j -6.77996346e-01+0.j\n",
      "   4.91326210e-01+0.j         -7.19125475e-01+0.j\n",
      "   7.07106781e-01+0.j         -6.04831782e-01+0.j        ]]\n"
     ]
    }
   ],
   "source": [
    "eigenvalues, eigenvectors = np.linalg.eig(G_tilde)\n",
    "\n",
    "# Display the eigenvalues\n",
    "print(\"Eigenvalues of G_tilde:\")\n",
    "print(eigenvalues)\n",
    "\n",
    "# Display the corresponding eigenvectors\n",
    "print(\"\\nEigenvectors of G_tilde:\")\n",
    "print(eigenvectors)"
   ]
  },
  {
   "cell_type": "code",
   "execution_count": 95,
   "metadata": {},
   "outputs": [
    {
     "name": "stdout",
     "output_type": "stream",
     "text": [
      "\n",
      "Dominant Eigenvector (normalized):\n",
      "[ 2.12145188e-01  3.04680836e-01  3.04680836e-01  1.19676263e-01\n",
      "  1.19676263e-01 -2.53750436e-01 -2.53750436e-01  1.25116406e-01\n",
      "  2.57532469e-01 -8.19913036e-03  4.21256971e-16  7.21917410e-02]\n"
     ]
    }
   ],
   "source": [
    "index_of_lambda_1 = np.where(np.isclose(eigenvalues, 1.0))[0][0]\n",
    "dominant_eigenvector = eigenvectors[index_of_lambda_1,:]\n",
    "\n",
    "# Normalize the dominant eigenvector (optional)\n",
    "dominant_eigenvector_normalized = dominant_eigenvector / np.sum(dominant_eigenvector)\n",
    "\n",
    "print(\"\\nDominant Eigenvector (normalized):\")\n",
    "print(dominant_eigenvector_normalized.real)  "
   ]
  },
  {
   "cell_type": "code",
   "execution_count": 60,
   "metadata": {},
   "outputs": [
    {
     "name": "stdout",
     "output_type": "stream",
     "text": [
      "[ 0  3  7  1  8 11  6 10  9  2  5  4]\n",
      "[ 7  6  0  3 10  1  2  4  8  5 11  9]\n",
      "False\n"
     ]
    }
   ],
   "source": [
    "eigenvalues_G, eigenvectors_G = np.linalg.eig(G)\n",
    "eigenvalues_G_tilde, eigenvectors_G_tilde = np.linalg.eig(G_tilde)\n",
    "# Step 1: Find the index of the largest eigenvalue in G\n",
    "index_of_largest_lambda_G = np.argmax(eigenvalues_G)\n",
    "# Step 2: Find the index of the largest eigenvalue in G_tilde\n",
    "index_of_largest_lambda_G_tilde = np.argmax(eigenvalues_G_tilde)\n",
    "# Step 3: Extract the corresponding eigenvectors\n",
    "v_G = eigenvectors_G[:, index_of_largest_lambda_G]\n",
    "v_G_tilde = eigenvectors_G_tilde[:, index_of_largest_lambda_G_tilde]\n",
    "# Normalize both eigenvectors\n",
    "v_G_normalized = v_G / np.sum(v_G)\n",
    "v_G_tilde_normalized = v_G_tilde / np.sum(v_G_tilde)\n",
    "# Rank the pages based on the values in the eigenvectors (higher value means higher rank)\n",
    "ranking_G = np.argsort(-v_G_normalized.real)  # Sorting in descending order\n",
    "ranking_G_tilde = np.argsort(-v_G_tilde_normalized.real)\n",
    "\n",
    "print(ranking_G)\n",
    "print(ranking_G_tilde)\n",
    "\n",
    "# Compare the rankings\n",
    "print(np.array_equal(ranking_G, ranking_G_tilde))"
   ]
  },
  {
   "cell_type": "code",
   "execution_count": 62,
   "metadata": {},
   "outputs": [
    {
     "name": "stdout",
     "output_type": "stream",
     "text": [
      "PageRank Rankings for G with Keywords:\n",
      "Page A (Rank 1): Keywords: Ash, Butternut, Cherry, Elm, Katsura, Magnolia, Teak, Ginkgo\n",
      "Page D (Rank 4): Keywords: Butternut, Cherry, Fir, Spruce, Teak, Aspen\n",
      "Page H (Rank 8): Keywords: Ash, Cherry, Hickory, Willow, Redwood, Aspen\n",
      "Page B (Rank 2): Keywords: Butternut, Fir, Hickory, Magnolia, Pine, Willow, Redwood\n",
      "Page I (Rank 9): Keywords: Elm, Fir, Katsura, Magnolia, Pine, Spruce\n",
      "Page L (Rank 12): Keywords: Butternut, Elm, Katsura, Oak, Pine, Spruce, Teak, Ginkgo, Aspen\n",
      "Page G (Rank 7): Keywords: Ash, Butternut, Oak, Spruce, Ginkgo, Redwood\n",
      "Page K (Rank 11): Keywords: Cherry, Elm, Fir, Hickory, Teak, Ginkgo, Redwood\n",
      "Page J (Rank 10): Keywords: Magnolia, Oak, Willow, Redwood, Aspen\n",
      "Page C (Rank 3): Keywords: Ash, Elm, Hickory, Katsura, Oak, Ginkgo, Redwood\n",
      "Page F (Rank 6): Keywords: Ash, Fir, Magnolia, Spruce, Ginkgo, Redwood, Aspen\n",
      "Page E (Rank 5): Keywords: Cherry, Hickory, Oak, Pine, Willow, Redwood\n",
      "\n",
      "PageRank Rankings for G_tilde with Titles and Keywords:\n",
      "Page H - Timber! (Rank 8): Keywords: Ash, Cherry, Hickory, Willow, Redwood, Aspen\n",
      "Page G - Lumber Jack Man (Rank 7): Keywords: Ash, Butternut, Oak, Spruce, Ginkgo, Redwood\n",
      "Page A - Trees For All (Rank 1): Keywords: Ash, Butternut, Cherry, Elm, Katsura, Magnolia, Teak, Ginkgo\n",
      "Page D - Shady Place (Rank 4): Keywords: Butternut, Cherry, Fir, Spruce, Teak, Aspen\n",
      "Page K - Evergreen Plants (Rank 11): Keywords: Cherry, Elm, Fir, Hickory, Teak, Ginkgo, Redwood\n",
      "Page B - The Weeping Willow (Rank 2): Keywords: Butternut, Fir, Hickory, Magnolia, Pine, Willow, Redwood\n",
      "Page C - Leaf Fall (Rank 3): Keywords: Ash, Elm, Hickory, Katsura, Oak, Ginkgo, Redwood\n",
      "Page E - The Prickly Pine (Rank 5): Keywords: Cherry, Hickory, Oak, Pine, Willow, Redwood\n",
      "Page I - Fine Grains (Rank 9): Keywords: Elm, Fir, Katsura, Magnolia, Pine, Spruce\n",
      "Page F - Good Wood (Rank 6): Keywords: Ash, Fir, Magnolia, Spruce, Ginkgo, Redwood, Aspen\n",
      "Page L - Sappy Planks (Rank 12): Keywords: Butternut, Elm, Katsura, Oak, Pine, Spruce, Teak, Ginkgo, Aspen\n",
      "Page J - The Warped Board (Rank 10): Keywords: Magnolia, Oak, Willow, Redwood, Aspen\n"
     ]
    }
   ],
   "source": [
    "# WebPage labels and associated keywords \n",
    "keywords = {\n",
    "    'A': ['Ash', 'Butternut', 'Cherry', 'Elm', 'Katsura', 'Magnolia', 'Teak', 'Ginkgo'],\n",
    "    'B': ['Butternut', 'Fir', 'Hickory', 'Magnolia', 'Pine', 'Willow', 'Redwood'],\n",
    "    'C': ['Ash', 'Elm', 'Hickory', 'Katsura', 'Oak', 'Ginkgo', 'Redwood'],\n",
    "    'D': ['Butternut', 'Cherry', 'Fir', 'Spruce', 'Teak', 'Aspen'],\n",
    "    'E': ['Cherry', 'Hickory', 'Oak', 'Pine', 'Willow', 'Redwood'],\n",
    "    'F': ['Ash', 'Fir', 'Magnolia', 'Spruce', 'Ginkgo', 'Redwood', 'Aspen'],\n",
    "    'G': ['Ash', 'Butternut', 'Oak', 'Spruce', 'Ginkgo', 'Redwood'],\n",
    "    'H': ['Ash', 'Cherry', 'Hickory', 'Willow', 'Redwood', 'Aspen'],\n",
    "    'I': ['Elm', 'Fir', 'Katsura', 'Magnolia', 'Pine', 'Spruce'],\n",
    "    'J': ['Magnolia', 'Oak', 'Willow', 'Redwood', 'Aspen'],\n",
    "    'K': ['Cherry', 'Elm', 'Fir', 'Hickory', 'Teak', 'Ginkgo', 'Redwood'],\n",
    "    'L': ['Butternut', 'Elm', 'Katsura', 'Oak', 'Pine', 'Spruce', 'Teak', 'Ginkgo', 'Aspen']\n",
    "}\n",
    "titles = {\n",
    "    'A': 'Trees For All',\n",
    "    'B': 'The Weeping Willow',\n",
    "    'C': 'Leaf Fall',\n",
    "    'D': 'Shady Place',\n",
    "    'E': 'The Prickly Pine',\n",
    "    'F': 'Good Wood',\n",
    "    'G': 'Lumber Jack Man',\n",
    "    'H': 'Timber!',\n",
    "    'I': 'Fine Grains',\n",
    "    'J': 'The Warped Board',\n",
    "    'K': 'Evergreen Plants',\n",
    "    'L': 'Sappy Planks'\n",
    "}\n",
    "page_labels = ['A', 'B', 'C', 'D', 'E', 'F', 'G', 'H', 'I', 'J', 'K', 'L']\n",
    "print(\"PageRank Rankings for G with Keywords:\")\n",
    "for rank in ranking_G:\n",
    "    page = page_labels[rank]\n",
    "    print(f\"Page {page} (Rank {rank + 1}): Keywords: {', '.join(keywords[page])}\")\n",
    "print(\"\\nPageRank Rankings for G_tilde with Titles and Keywords:\")\n",
    "for rank in ranking_G_tilde:\n",
    "    page = page_labels[rank]\n",
    "    print(f\"Page {page} - {titles[page]} (Rank {rank + 1}): Keywords: {', '.join(keywords[page])}\")\n",
    "\n"
   ]
  },
  {
   "cell_type": "code",
   "execution_count": 96,
   "metadata": {},
   "outputs": [
    {
     "name": "stdout",
     "output_type": "stream",
     "text": [
      "             A    B    C    D    E    F    G    H    I    J    K    L\n",
      "Ash        1.0  0.0  1.0  0.0  0.0  1.0  1.0  1.0  0.0  0.0  0.0  0.0\n",
      "Aspen      0.0  0.0  0.0  1.0  0.0  1.0  0.0  1.0  0.0  1.0  0.0  1.0\n",
      "Butternut  1.0  1.0  0.0  1.0  0.0  0.0  1.0  0.0  0.0  0.0  0.0  1.0\n",
      "Cherry     1.0  0.0  0.0  1.0  1.0  0.0  0.0  1.0  0.0  0.0  1.0  0.0\n",
      "Elm        1.0  0.0  1.0  0.0  0.0  0.0  0.0  0.0  1.0  0.0  1.0  1.0\n",
      "Fir        0.0  1.0  0.0  1.0  0.0  1.0  0.0  0.0  1.0  0.0  1.0  0.0\n",
      "Ginkgo     1.0  0.0  1.0  0.0  0.0  1.0  1.0  0.0  0.0  0.0  1.0  1.0\n",
      "Hickory    0.0  1.0  1.0  0.0  1.0  0.0  0.0  1.0  0.0  0.0  1.0  0.0\n",
      "Katsura    1.0  0.0  1.0  0.0  0.0  0.0  0.0  0.0  1.0  0.0  0.0  1.0\n",
      "Magnolia   1.0  1.0  0.0  0.0  0.0  1.0  0.0  0.0  1.0  1.0  0.0  0.0\n",
      "Oak        0.0  0.0  1.0  0.0  1.0  0.0  1.0  0.0  0.0  1.0  0.0  1.0\n",
      "Pine       0.0  1.0  0.0  0.0  1.0  0.0  0.0  0.0  1.0  0.0  0.0  1.0\n",
      "Redwood    0.0  1.0  1.0  0.0  1.0  1.0  1.0  1.0  0.0  1.0  1.0  0.0\n",
      "Spruce     0.0  0.0  0.0  1.0  0.0  1.0  1.0  0.0  1.0  0.0  0.0  1.0\n",
      "Teak       1.0  0.0  0.0  1.0  0.0  0.0  0.0  0.0  0.0  0.0  1.0  1.0\n",
      "Willow     0.0  1.0  0.0  0.0  1.0  0.0  0.0  1.0  0.0  1.0  0.0  0.0\n"
     ]
    }
   ],
   "source": [
    "# Step 1: Get the list of unique terms (keywords)\n",
    "unique_terms = sorted(list(set(term for doc in keywords.values() for term in doc)))\n",
    "\n",
    "# Step 2: Initialize the term-document matrix with zeros\n",
    "n_docs = len(keywords)\n",
    "n_terms = len(unique_terms)\n",
    "term_document_matrix = np.zeros((n_terms, n_docs))\n",
    "\n",
    "# Step 3: Populate the matrix with 1s if the term appears in the document\n",
    "for doc_index, doc in enumerate(keywords.keys()):\n",
    "    for term in keywords[doc]:\n",
    "        term_index = unique_terms.index(term)\n",
    "        term_document_matrix[term_index, doc_index] = 1\n",
    "\n",
    "# Convert the matrix to a more readable format\n",
    "import pandas as pd\n",
    "term_doc_df = pd.DataFrame(term_document_matrix, index=unique_terms, columns=keywords.keys())\n",
    "\n",
    "# Display the term-document matrix\n",
    "print(term_doc_df)"
   ]
  },
  {
   "cell_type": "code",
   "execution_count": 98,
   "metadata": {},
   "outputs": [
    {
     "name": "stdout",
     "output_type": "stream",
     "text": [
      "Query Vector:\n",
      "[1. 1. 1. 1. 1. 1. 1. 1. 1. 1. 1. 1. 1. 1. 1. 1.]\n"
     ]
    }
   ],
   "source": [
    "# Assuming 'unique_terms' contains the list of all unique terms from the term-document matrix\n",
    "query = [\"Ash\",\"Aspen\",\"Butternut\",\"Cherry\",\"Elm\",\"Fir\",\"Ginkgo\",\"Hickory\",\"Katsura\",\"Magnolia\", \"Oak\",\"Pine\", \"Redwood\",\"Spruce\",\"Teak\",\"Willow\"]\n",
    "\n",
    "# Step 1: Create a zero vector with the same length as the number of unique terms\n",
    "query_vector = np.zeros(len(unique_terms))\n",
    "\n",
    "# Step 2: Set the corresponding entries to 1 for terms present in the query\n",
    "for term in query:\n",
    "    if term in unique_terms:\n",
    "        query_index = unique_terms.index(term)\n",
    "        query_vector[query_index] = 1\n",
    "\n",
    "# Display the query vector\n",
    "print(\"Query Vector:\")\n",
    "print(query_vector)\n"
   ]
  }
 ],
 "metadata": {
  "kernelspec": {
   "display_name": "Python 3 (ipykernel)",
   "language": "python",
   "name": "python3"
  },
  "language_info": {
   "codemirror_mode": {
    "name": "ipython",
    "version": 3
   },
   "file_extension": ".py",
   "mimetype": "text/x-python",
   "name": "python",
   "nbconvert_exporter": "python",
   "pygments_lexer": "ipython3",
   "version": "3.11.9"
  }
 },
 "nbformat": 4,
 "nbformat_minor": 4
}
