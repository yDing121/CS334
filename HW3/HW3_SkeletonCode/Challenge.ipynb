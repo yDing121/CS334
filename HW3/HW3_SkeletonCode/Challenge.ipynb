{
 "cells": [
  {
   "cell_type": "markdown",
   "id": "21bcd0b5-a3b4-429c-85e0-0b117249f727",
   "metadata": {},
   "source": [
    "## Imports"
   ]
  },
  {
   "cell_type": "code",
   "execution_count": 50,
   "id": "dbf0218f-7af9-4c10-b601-5fef6c890cb9",
   "metadata": {},
   "outputs": [],
   "source": [
    "import numpy as np\n",
    "import pandas as pd\n",
    "from tqdm import tqdm\n",
    "from joblib import Parallel, delayed\n",
    "import random\n",
    "\n",
    "\n",
    "from sklearn.linear_model import LogisticRegression\n",
    "\n",
    "import hw3_main\n",
    "from helper import *\n",
    "\n",
    "random.seed(69)"
   ]
  },
  {
   "cell_type": "markdown",
   "id": "0f240594-b3b6-4abf-acff-6a9f04fc2803",
   "metadata": {},
   "source": [
    "## Load Data"
   ]
  },
  {
   "cell_type": "code",
   "execution_count": 10,
   "id": "02561f88-2b44-4afa-a23b-c7516304b863",
   "metadata": {},
   "outputs": [
    {
     "name": "stderr",
     "output_type": "stream",
     "text": [
      "Loading files from disk: 100%|█████████████████████████████████████████████████████████████████████████████████████████████████████████████████████████████████████████████████████████████████| 12000/12000 [00:05<00:00, 2008.45it/s]\n",
      "Generating feature vectors: 100%|██████████████████████████████████████████████████████████████████████████████████████████████████████████████████████████████████████████████████████████████| 12000/12000 [00:06<00:00, 1961.40it/s]\n"
     ]
    }
   ],
   "source": [
    "X_challenge, y_challenge, X_heldout, feature_names = get_challenge_data()"
   ]
  },
  {
   "cell_type": "markdown",
   "id": "707c0c39-a17d-458c-b5a2-6d05a5fd1646",
   "metadata": {},
   "source": [
    "## Exploration"
   ]
  },
  {
   "cell_type": "markdown",
   "id": "dd24ee33-3d25-4b5e-a0b5-af96b06a1e21",
   "metadata": {},
   "source": [
    "Seeing if we should one-hot encode any categorical variables by looking at the number of unique values in each column:"
   ]
  },
  {
   "cell_type": "code",
   "execution_count": 51,
   "id": "eb9ebcbf-7c7e-4069-afa6-3fbfed8f955c",
   "metadata": {},
   "outputs": [
    {
     "name": "stdout",
     "output_type": "stream",
     "text": [
      "Index(['Gender', 'ICUType'], dtype='object')\n"
     ]
    }
   ],
   "source": [
    "df = make_df(X_challenge, feature_names)\n",
    "print(df.columns[df.nunique() <= 5])"
   ]
  },
  {
   "cell_type": "markdown",
   "id": "6cbb58e9-ecdc-4bb5-ad05-bd704b6f3c62",
   "metadata": {},
   "source": [
    "As we can see, these 2 variables have less than 5 unique observations. We can make them into one-hot encoded variables."
   ]
  },
  {
   "cell_type": "markdown",
   "id": "b9824b3b-9de5-4cdd-adae-5838742eae9c",
   "metadata": {},
   "source": [
    "## Setup"
   ]
  },
  {
   "cell_type": "code",
   "execution_count": 11,
   "id": "a6acbe5d-8f33-412c-bb2c-189621e55d28",
   "metadata": {},
   "outputs": [],
   "source": [
    "def generate_feature_vector_challenge(df):\n",
    "    return hw3_main.generate_feature_vector(df)"
   ]
  },
  {
   "cell_type": "code",
   "execution_count": 12,
   "id": "d36a2c2e-ad3e-4a03-9e08-1df798bf641b",
   "metadata": {},
   "outputs": [],
   "source": [
    "def impute_missing_values_challenge(X):\n",
    "    return hw3_main.impute_missing_values(X)"
   ]
  },
  {
   "cell_type": "code",
   "execution_count": 13,
   "id": "3255ef13-d0fb-46c4-a8e6-3beac37ed79a",
   "metadata": {},
   "outputs": [],
   "source": [
    "def normalize_feature_matrix_challenge(X):\n",
    "    return hw3_main.normalize_feature_matrix(X)"
   ]
  },
  {
   "cell_type": "code",
   "execution_count": 14,
   "id": "6cf06aca-58fe-4a22-8ca1-4c6621f2f2a1",
   "metadata": {},
   "outputs": [],
   "source": [
    "def get_train_val_split(X: np.ndarray[float], y: np.ndarray[int]):\n",
    "    X_train, X_val, y_train, y_val = train_test_split(X, y, test_size=0.20, stratify=y, random_state=69)\n",
    "    return X_train, X_val, y_train, y_val"
   ]
  },
  {
   "cell_type": "code",
   "execution_count": 30,
   "id": "98906cce-ae1b-4b27-8b24-bc7d3bd155f7",
   "metadata": {},
   "outputs": [],
   "source": [
    "def make_df(X, names):\n",
    "    assert X.shape[1] == len(names)\n",
    "\n",
    "    tmp = dict()\n",
    "    for i, k in enumerate(names):\n",
    "        tmp[k] = X[:, i]\n",
    "    return pd.DataFrame(tmp)"
   ]
  },
  {
   "cell_type": "code",
   "execution_count": 56,
   "id": "e551850b-0b99-4751-bf0a-d4667c1768c3",
   "metadata": {},
   "outputs": [],
   "source": [
    "def preprocess(X: np.ndarray[float], feature_names):\n",
    "    df = make_df(X, feature_names)\n",
    "\n",
    "    df_new = pd.get_dummies(df, columns=['Gender', 'ICUType'])\n",
    "    df_new.rename(columns={\n",
    "        'Gender_0.0': 'gender_0',\n",
    "        'Gender_0.5611444778111445': 'gender_1',\n",
    "        'Gender_1.0': 'gender_2',\n",
    "        'ICUType_0.0': 'CCU',\n",
    "        'ICUType_0.3333333333333333': 'CSRU',\n",
    "        'ICUType_0.6666666666666666': 'MedICU',\n",
    "        'ICUType_1.0': 'SurgICU'\n",
    "    }, inplace=True)\n",
    "    print(df_new.columns)\n",
    "\n",
    "    X_new = X\n",
    "    feature_names_new = feature_names\n",
    "\n",
    "    \n",
    "\n",
    "    return X_new, feature_names_new"
   ]
  },
  {
   "cell_type": "code",
   "execution_count": 57,
   "id": "3c33352d-0021-40dc-9f15-ad4c9a3eb5f8",
   "metadata": {},
   "outputs": [
    {
     "name": "stdout",
     "output_type": "stream",
     "text": [
      "Index(['Age', 'Height', 'Weight', 'mean_ALP', 'mean_ALT', 'mean_AST',\n",
      "       'mean_Albumin', 'mean_BUN', 'mean_Bilirubin', 'mean_Cholesterol',\n",
      "       'mean_Creatinine', 'mean_DiasABP', 'mean_FiO2', 'mean_GCS',\n",
      "       'mean_Glucose', 'mean_HCO3', 'mean_HCT', 'mean_HR', 'mean_K',\n",
      "       'mean_Lactate', 'mean_MAP', 'mean_Mg', 'mean_NIDiasABP', 'mean_NIMAP',\n",
      "       'mean_NISysABP', 'mean_Na', 'mean_PaCO2', 'mean_PaO2', 'mean_Platelets',\n",
      "       'mean_RespRate', 'mean_SaO2', 'mean_SysABP', 'mean_Temp',\n",
      "       'mean_TroponinI', 'mean_TroponinT', 'mean_Urine', 'mean_WBC', 'mean_pH',\n",
      "       'gender_0', 'gender_1', 'gender_2', 'CCU', 'CSRU', 'MedICU', 'SurgICU'],\n",
      "      dtype='object')\n"
     ]
    }
   ],
   "source": [
    "def run_challenge(X_challenge, y_challenge, X_heldout, feature_names):\n",
    "    X_cha, feat_names = preprocess(X_challenge, feature_names)\n",
    "    # clf = LogisticRegression()\n",
    "    # clf.fit(X_challenge, y_challenge)\n",
    "\n",
    "    # X_train, X_val, y_train, y_val = get_train_val_split(X_challenge, y_challenge)\n",
    "    # assert X_train.shape[0] == y_train.size and X_val.shape[0] == y_val.size\n",
    "\n",
    "\n",
    "    # C_range = np.logspace(-4, 4, 9)\n",
    "\n",
    "    # y_score = clf.predict_proba(X_heldout)[:, 1]\n",
    "    # y_label = clf.predict(X_heldout)\n",
    "    # make_challenge_submission(y_label, y_score)\n",
    "run_challenge(X_challenge, y_challenge, X_heldout, feature_names)"
   ]
  },
  {
   "cell_type": "markdown",
   "id": "3a004375-1b4d-409f-9e09-a9f4027e3539",
   "metadata": {},
   "source": [
    "## Running"
   ]
  },
  {
   "cell_type": "code",
   "execution_count": 8,
   "id": "85da6c8c-1a93-48b1-995b-395ec950a8b7",
   "metadata": {},
   "outputs": [
    {
     "name": "stderr",
     "output_type": "stream",
     "text": [
      "Loading files from disk: 100%|█████████████████████████████████████████████████████████████████████████████████████████████████████████████████████████████████████████████████████████████████| 12000/12000 [00:05<00:00, 2093.39it/s]\n",
      "Generating feature vectors: 100%|██████████████████████████████████████████████████████████████████████████████████████████████████████████████████████████████████████████████████████████████| 12000/12000 [00:07<00:00, 1505.91it/s]\n"
     ]
    },
    {
     "name": "stdout",
     "output_type": "stream",
     "text": [
      "================= Part 3 ===================\n",
      "Part 3: Challenge\n",
      "Saving challenge output...\n",
      "challenge.csv saved\n",
      "SUCCESS: csv file is valid.\n"
     ]
    }
   ],
   "source": [
    "run_challenge(X_challenge, y_challenge, X_heldout, feature_names)\n",
    "test_challenge_output()"
   ]
  },
  {
   "cell_type": "code",
   "execution_count": null,
   "id": "cbdd5cf2-cf38-4872-8527-72bb877e6fb3",
   "metadata": {},
   "outputs": [],
   "source": []
  }
 ],
 "metadata": {
  "kernelspec": {
   "display_name": "CS334",
   "language": "python",
   "name": "myenv"
  },
  "language_info": {
   "codemirror_mode": {
    "name": "ipython",
    "version": 3
   },
   "file_extension": ".py",
   "mimetype": "text/x-python",
   "name": "python",
   "nbconvert_exporter": "python",
   "pygments_lexer": "ipython3",
   "version": "3.11.9"
  }
 },
 "nbformat": 4,
 "nbformat_minor": 5
}
